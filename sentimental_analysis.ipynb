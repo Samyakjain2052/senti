{
 "cells": [
  {
   "cell_type": "code",
   "execution_count": 32,
   "id": "initial_id",
   "metadata": {
    "collapsed": true,
    "ExecuteTime": {
     "end_time": "2024-03-08T09:12:12.108385900Z",
     "start_time": "2024-03-08T09:12:12.088484400Z"
    }
   },
   "outputs": [],
   "source": [
    "import pandas as pd\n",
    "import numpy as np\n",
    "import matplotlib.pyplot as plt\n",
    "import seaborn as sns\n",
    "from sklearn.model_selection import train_test_split\n",
    "from sklearn.svm import SVC\n",
    "from sklearn.metrics import classification_report, confusion_matrix\n",
    "from sklearn.model_selection import GridSearchCV\n",
    "from sklearn.preprocessing import StandardScaler\n",
    "from sklearn.pipeline import Pipeline\n",
    "from sklearn.model_selection import cross_val_score\n",
    "from sklearn.metrics import accuracy_score\n",
    "from sklearn.metrics import precision_score\n",
    "from sklearn.metrics import recall_score\n",
    "from sklearn import svm\n",
    "from sklearn.feature_extraction.text import TfidfVectorizer\n",
    "from sklearn.naive_bayes import MultinomialNB\n",
    "from sklearn.metrics import accuracy_score, confusion_matrix, classification_report\n",
    "from sklearn.linear_model import LogisticRegression\n",
    "from sklearn.feature_extraction.text import CountVectorizer\n",
    "from sklearn.preprocessing import StandardScaler\n",
    "from sklearn.linear_model import LogisticRegression"
   ]
  },
  {
   "cell_type": "code",
   "execution_count": 33,
   "id": "59727670bfb13dbb",
   "metadata": {
    "collapsed": false,
    "ExecuteTime": {
     "end_time": "2024-03-08T09:12:12.522310Z",
     "start_time": "2024-03-08T09:12:12.111614Z"
    }
   },
   "outputs": [],
   "source": [
    "data = pd.read_csv('Twitter_Data.csv')"
   ]
  },
  {
   "cell_type": "code",
   "execution_count": 34,
   "id": "93c7db04dd33ace6",
   "metadata": {
    "collapsed": false,
    "ExecuteTime": {
     "end_time": "2024-03-08T09:12:12.534840500Z",
     "start_time": "2024-03-08T09:12:12.522310Z"
    }
   },
   "outputs": [
    {
     "data": {
      "text/plain": "                                          clean_text  category\n0  when modi promised “minimum government maximum...      -1.0\n1  talk all the nonsense and continue all the dra...       0.0\n2  what did just say vote for modi  welcome bjp t...       1.0\n3  asking his supporters prefix chowkidar their n...       1.0\n4  answer who among these the most powerful world...       1.0",
      "text/html": "<div>\n<style scoped>\n    .dataframe tbody tr th:only-of-type {\n        vertical-align: middle;\n    }\n\n    .dataframe tbody tr th {\n        vertical-align: top;\n    }\n\n    .dataframe thead th {\n        text-align: right;\n    }\n</style>\n<table border=\"1\" class=\"dataframe\">\n  <thead>\n    <tr style=\"text-align: right;\">\n      <th></th>\n      <th>clean_text</th>\n      <th>category</th>\n    </tr>\n  </thead>\n  <tbody>\n    <tr>\n      <th>0</th>\n      <td>when modi promised “minimum government maximum...</td>\n      <td>-1.0</td>\n    </tr>\n    <tr>\n      <th>1</th>\n      <td>talk all the nonsense and continue all the dra...</td>\n      <td>0.0</td>\n    </tr>\n    <tr>\n      <th>2</th>\n      <td>what did just say vote for modi  welcome bjp t...</td>\n      <td>1.0</td>\n    </tr>\n    <tr>\n      <th>3</th>\n      <td>asking his supporters prefix chowkidar their n...</td>\n      <td>1.0</td>\n    </tr>\n    <tr>\n      <th>4</th>\n      <td>answer who among these the most powerful world...</td>\n      <td>1.0</td>\n    </tr>\n  </tbody>\n</table>\n</div>"
     },
     "execution_count": 34,
     "metadata": {},
     "output_type": "execute_result"
    }
   ],
   "source": [
    "data.head()"
   ]
  },
  {
   "cell_type": "code",
   "execution_count": 35,
   "id": "5b15690256434e62",
   "metadata": {
    "collapsed": false,
    "ExecuteTime": {
     "end_time": "2024-03-08T09:12:12.549744200Z",
     "start_time": "2024-03-08T09:12:12.534338Z"
    }
   },
   "outputs": [
    {
     "data": {
      "text/plain": "                                               clean_text  category\n0       when modi promised “minimum government maximum...      -1.0\n1       talk all the nonsense and continue all the dra...       0.0\n2       what did just say vote for modi  welcome bjp t...       1.0\n3       asking his supporters prefix chowkidar their n...       1.0\n4       answer who among these the most powerful world...       1.0\n...                                                   ...       ...\n162975  why these 456 crores paid neerav modi not reco...      -1.0\n162976  dear rss terrorist payal gawar what about modi...      -1.0\n162977  did you cover her interaction forum where she ...       0.0\n162978  there big project came into india modi dream p...       0.0\n162979  have you ever listen about like gurukul where ...       1.0\n\n[162980 rows x 2 columns]",
      "text/html": "<div>\n<style scoped>\n    .dataframe tbody tr th:only-of-type {\n        vertical-align: middle;\n    }\n\n    .dataframe tbody tr th {\n        vertical-align: top;\n    }\n\n    .dataframe thead th {\n        text-align: right;\n    }\n</style>\n<table border=\"1\" class=\"dataframe\">\n  <thead>\n    <tr style=\"text-align: right;\">\n      <th></th>\n      <th>clean_text</th>\n      <th>category</th>\n    </tr>\n  </thead>\n  <tbody>\n    <tr>\n      <th>0</th>\n      <td>when modi promised “minimum government maximum...</td>\n      <td>-1.0</td>\n    </tr>\n    <tr>\n      <th>1</th>\n      <td>talk all the nonsense and continue all the dra...</td>\n      <td>0.0</td>\n    </tr>\n    <tr>\n      <th>2</th>\n      <td>what did just say vote for modi  welcome bjp t...</td>\n      <td>1.0</td>\n    </tr>\n    <tr>\n      <th>3</th>\n      <td>asking his supporters prefix chowkidar their n...</td>\n      <td>1.0</td>\n    </tr>\n    <tr>\n      <th>4</th>\n      <td>answer who among these the most powerful world...</td>\n      <td>1.0</td>\n    </tr>\n    <tr>\n      <th>...</th>\n      <td>...</td>\n      <td>...</td>\n    </tr>\n    <tr>\n      <th>162975</th>\n      <td>why these 456 crores paid neerav modi not reco...</td>\n      <td>-1.0</td>\n    </tr>\n    <tr>\n      <th>162976</th>\n      <td>dear rss terrorist payal gawar what about modi...</td>\n      <td>-1.0</td>\n    </tr>\n    <tr>\n      <th>162977</th>\n      <td>did you cover her interaction forum where she ...</td>\n      <td>0.0</td>\n    </tr>\n    <tr>\n      <th>162978</th>\n      <td>there big project came into india modi dream p...</td>\n      <td>0.0</td>\n    </tr>\n    <tr>\n      <th>162979</th>\n      <td>have you ever listen about like gurukul where ...</td>\n      <td>1.0</td>\n    </tr>\n  </tbody>\n</table>\n<p>162980 rows × 2 columns</p>\n</div>"
     },
     "execution_count": 35,
     "metadata": {},
     "output_type": "execute_result"
    }
   ],
   "source": [
    "data"
   ]
  },
  {
   "cell_type": "code",
   "execution_count": 36,
   "id": "4d140d4574460198",
   "metadata": {
    "collapsed": false,
    "ExecuteTime": {
     "end_time": "2024-03-08T09:12:12.700286800Z",
     "start_time": "2024-03-08T09:12:12.552067500Z"
    }
   },
   "outputs": [
    {
     "name": "stdout",
     "output_type": "stream",
     "text": [
      "clean_text    4\n",
      "category      7\n",
      "dtype: int64\n"
     ]
    }
   ],
   "source": [
    "# check for null values\n",
    "print(data.isnull().sum())\n",
    " \n",
    "datanew= data.where((pd.notnull(data)),'')\n",
    "\n"
   ]
  },
  {
   "cell_type": "code",
   "execution_count": 37,
   "id": "1816e79d880914",
   "metadata": {
    "collapsed": false,
    "ExecuteTime": {
     "end_time": "2024-03-08T09:12:12.718088700Z",
     "start_time": "2024-03-08T09:12:12.620646300Z"
    }
   },
   "outputs": [
    {
     "data": {
      "text/plain": "                                               clean_text category\n0       when modi promised “minimum government maximum...     -1.0\n1       talk all the nonsense and continue all the dra...      0.0\n2       what did just say vote for modi  welcome bjp t...      1.0\n3       asking his supporters prefix chowkidar their n...      1.0\n4       answer who among these the most powerful world...      1.0\n...                                                   ...      ...\n162975  why these 456 crores paid neerav modi not reco...     -1.0\n162976  dear rss terrorist payal gawar what about modi...     -1.0\n162977  did you cover her interaction forum where she ...      0.0\n162978  there big project came into india modi dream p...      0.0\n162979  have you ever listen about like gurukul where ...      1.0\n\n[162980 rows x 2 columns]",
      "text/html": "<div>\n<style scoped>\n    .dataframe tbody tr th:only-of-type {\n        vertical-align: middle;\n    }\n\n    .dataframe tbody tr th {\n        vertical-align: top;\n    }\n\n    .dataframe thead th {\n        text-align: right;\n    }\n</style>\n<table border=\"1\" class=\"dataframe\">\n  <thead>\n    <tr style=\"text-align: right;\">\n      <th></th>\n      <th>clean_text</th>\n      <th>category</th>\n    </tr>\n  </thead>\n  <tbody>\n    <tr>\n      <th>0</th>\n      <td>when modi promised “minimum government maximum...</td>\n      <td>-1.0</td>\n    </tr>\n    <tr>\n      <th>1</th>\n      <td>talk all the nonsense and continue all the dra...</td>\n      <td>0.0</td>\n    </tr>\n    <tr>\n      <th>2</th>\n      <td>what did just say vote for modi  welcome bjp t...</td>\n      <td>1.0</td>\n    </tr>\n    <tr>\n      <th>3</th>\n      <td>asking his supporters prefix chowkidar their n...</td>\n      <td>1.0</td>\n    </tr>\n    <tr>\n      <th>4</th>\n      <td>answer who among these the most powerful world...</td>\n      <td>1.0</td>\n    </tr>\n    <tr>\n      <th>...</th>\n      <td>...</td>\n      <td>...</td>\n    </tr>\n    <tr>\n      <th>162975</th>\n      <td>why these 456 crores paid neerav modi not reco...</td>\n      <td>-1.0</td>\n    </tr>\n    <tr>\n      <th>162976</th>\n      <td>dear rss terrorist payal gawar what about modi...</td>\n      <td>-1.0</td>\n    </tr>\n    <tr>\n      <th>162977</th>\n      <td>did you cover her interaction forum where she ...</td>\n      <td>0.0</td>\n    </tr>\n    <tr>\n      <th>162978</th>\n      <td>there big project came into india modi dream p...</td>\n      <td>0.0</td>\n    </tr>\n    <tr>\n      <th>162979</th>\n      <td>have you ever listen about like gurukul where ...</td>\n      <td>1.0</td>\n    </tr>\n  </tbody>\n</table>\n<p>162980 rows × 2 columns</p>\n</div>"
     },
     "execution_count": 37,
     "metadata": {},
     "output_type": "execute_result"
    }
   ],
   "source": [
    "datanew\n"
   ]
  },
  {
   "cell_type": "code",
   "execution_count": 38,
   "id": "e4a76cb938b87339",
   "metadata": {
    "collapsed": false,
    "ExecuteTime": {
     "end_time": "2024-03-08T09:12:12.786593600Z",
     "start_time": "2024-03-08T09:12:12.629568400Z"
    }
   },
   "outputs": [
    {
     "name": "stdout",
     "output_type": "stream",
     "text": [
      "clean_text    0\n",
      "category      0\n",
      "dtype: int64\n",
      "False\n"
     ]
    }
   ],
   "source": [
    "print(datanew.isnull().sum())\n",
    "\n",
    "any_nan_in_df = datanew.isna().any().any()\n",
    "\n",
    "\n",
    "print(any_nan_in_df)"
   ]
  },
  {
   "cell_type": "code",
   "execution_count": 39,
   "id": "8d9012eb1dc83d53",
   "metadata": {
    "collapsed": false,
    "ExecuteTime": {
     "end_time": "2024-03-08T09:12:12.791178600Z",
     "start_time": "2024-03-08T09:12:12.681709500Z"
    }
   },
   "outputs": [
    {
     "data": {
      "text/plain": "                                               clean_text  category\n0       when modi promised “minimum government maximum...        -1\n1       talk all the nonsense and continue all the dra...         0\n2       what did just say vote for modi  welcome bjp t...         1\n3       asking his supporters prefix chowkidar their n...         1\n4       answer who among these the most powerful world...         1\n...                                                   ...       ...\n162975  why these 456 crores paid neerav modi not reco...        -1\n162976  dear rss terrorist payal gawar what about modi...        -1\n162977  did you cover her interaction forum where she ...         0\n162978  there big project came into india modi dream p...         0\n162979  have you ever listen about like gurukul where ...         1\n\n[162980 rows x 2 columns]",
      "text/html": "<div>\n<style scoped>\n    .dataframe tbody tr th:only-of-type {\n        vertical-align: middle;\n    }\n\n    .dataframe tbody tr th {\n        vertical-align: top;\n    }\n\n    .dataframe thead th {\n        text-align: right;\n    }\n</style>\n<table border=\"1\" class=\"dataframe\">\n  <thead>\n    <tr style=\"text-align: right;\">\n      <th></th>\n      <th>clean_text</th>\n      <th>category</th>\n    </tr>\n  </thead>\n  <tbody>\n    <tr>\n      <th>0</th>\n      <td>when modi promised “minimum government maximum...</td>\n      <td>-1</td>\n    </tr>\n    <tr>\n      <th>1</th>\n      <td>talk all the nonsense and continue all the dra...</td>\n      <td>0</td>\n    </tr>\n    <tr>\n      <th>2</th>\n      <td>what did just say vote for modi  welcome bjp t...</td>\n      <td>1</td>\n    </tr>\n    <tr>\n      <th>3</th>\n      <td>asking his supporters prefix chowkidar their n...</td>\n      <td>1</td>\n    </tr>\n    <tr>\n      <th>4</th>\n      <td>answer who among these the most powerful world...</td>\n      <td>1</td>\n    </tr>\n    <tr>\n      <th>...</th>\n      <td>...</td>\n      <td>...</td>\n    </tr>\n    <tr>\n      <th>162975</th>\n      <td>why these 456 crores paid neerav modi not reco...</td>\n      <td>-1</td>\n    </tr>\n    <tr>\n      <th>162976</th>\n      <td>dear rss terrorist payal gawar what about modi...</td>\n      <td>-1</td>\n    </tr>\n    <tr>\n      <th>162977</th>\n      <td>did you cover her interaction forum where she ...</td>\n      <td>0</td>\n    </tr>\n    <tr>\n      <th>162978</th>\n      <td>there big project came into india modi dream p...</td>\n      <td>0</td>\n    </tr>\n    <tr>\n      <th>162979</th>\n      <td>have you ever listen about like gurukul where ...</td>\n      <td>1</td>\n    </tr>\n  </tbody>\n</table>\n<p>162980 rows × 2 columns</p>\n</div>"
     },
     "execution_count": 39,
     "metadata": {},
     "output_type": "execute_result"
    }
   ],
   "source": [
    "\n",
    "datanew['category'] = datanew['category'].replace('', '-1')\n",
    "\n",
    "\n",
    "datanew['category'] = datanew['category'].astype(int)\n",
    "\n",
    "datanew"
   ]
  },
  {
   "cell_type": "code",
   "execution_count": 40,
   "id": "ae94b2e6c2860700",
   "metadata": {
    "collapsed": false,
    "ExecuteTime": {
     "end_time": "2024-03-08T09:12:12.804232600Z",
     "start_time": "2024-03-08T09:12:12.742611600Z"
    }
   },
   "outputs": [
    {
     "name": "stdout",
     "output_type": "stream",
     "text": [
      "0         when modi promised “minimum government maximum...\n",
      "1         talk all the nonsense and continue all the dra...\n",
      "2         what did just say vote for modi  welcome bjp t...\n",
      "3         asking his supporters prefix chowkidar their n...\n",
      "4         answer who among these the most powerful world...\n",
      "                                ...                        \n",
      "162975    why these 456 crores paid neerav modi not reco...\n",
      "162976    dear rss terrorist payal gawar what about modi...\n",
      "162977    did you cover her interaction forum where she ...\n",
      "162978    there big project came into india modi dream p...\n",
      "162979    have you ever listen about like gurukul where ...\n",
      "Name: clean_text, Length: 162980, dtype: object\n",
      "0        -1\n",
      "1         0\n",
      "2         1\n",
      "3         1\n",
      "4         1\n",
      "         ..\n",
      "162975   -1\n",
      "162976   -1\n",
      "162977    0\n",
      "162978    0\n",
      "162979    1\n",
      "Name: category, Length: 162980, dtype: int32\n",
      "143775    they always say har bar modi sarkar”\\nbut neve...\n",
      "126330    its voilation mcc not how can gov release paym...\n",
      "140459    wonderful sentence north eastern friend congre...\n",
      "30294     which govt approved the loan nirav and vijay m...\n",
      "76423                                       great aap modi \n",
      "                                ...                        \n",
      "156437    most friends criticize for supporting modi and...\n",
      "104704    referring the modi says india has gained the a...\n",
      "48056     think modi knows losing out desperation trying...\n",
      "77049     apparently rss and modi fanboy also womanizer ...\n",
      "71530     there already accepted that democracys elected...\n",
      "Name: clean_text, Length: 130384, dtype: object\n",
      "160407    this jawan sacked our army itself because want...\n",
      "46224     this was just announced modi you have alzheime...\n",
      "80529     wonder what drama store when goes poll will mu...\n",
      "28505     and can term any leader names who can fill the...\n",
      "150260    narendra modi take oath office sanskrit sign t...\n",
      "                                ...                        \n",
      "21724     dear ape bhi jumla marna chalu kar diye least ...\n",
      "45656     prime minister narendra mod live mission shakt...\n",
      "145513    why concerning you want her say yes know for f...\n",
      "132582    modi has not done any thing last years can cre...\n",
      "80619     terming these raids real and open surgical str...\n",
      "Name: clean_text, Length: 32596, dtype: object\n",
      "143775    0\n",
      "126330    0\n",
      "140459    1\n",
      "30294    -1\n",
      "76423     1\n",
      "         ..\n",
      "156437    1\n",
      "104704    0\n",
      "48056     0\n",
      "77049     1\n",
      "71530     0\n",
      "Name: category, Length: 130384, dtype: int32\n",
      "160407    1\n",
      "46224     0\n",
      "80529     1\n",
      "28505     0\n",
      "150260    0\n",
      "         ..\n",
      "21724    -1\n",
      "45656    -1\n",
      "145513    1\n",
      "132582    0\n",
      "80619    -1\n",
      "Name: category, Length: 32596, dtype: int32\n"
     ]
    }
   ],
   "source": [
    "X = datanew['clean_text']\n",
    "Y = datanew['category']\n",
    "\n",
    "print(X)\n",
    "print(Y)\n",
    "\n",
    "X_train, X_test, Y_train, Y_test = train_test_split(X, Y, test_size=0.2, random_state=3)\n",
    "\n",
    "print(X_train)\n",
    "print(X_test)\n",
    "print(Y_train)\n",
    "print(Y_test)\n",
    "\n"
   ]
  },
  {
   "cell_type": "code",
   "execution_count": 41,
   "id": "e57abe20ceff9fe2",
   "metadata": {
    "collapsed": false,
    "ExecuteTime": {
     "end_time": "2024-03-08T09:12:15.837978900Z",
     "start_time": "2024-03-08T09:12:12.770824Z"
    }
   },
   "outputs": [],
   "source": [
    "vectorizer = TfidfVectorizer(min_df=1, stop_words='english', lowercase=True)\n",
    "\n",
    "X_train_features = vectorizer.fit_transform(X_train)\n",
    "X_test_features = vectorizer.transform(X_test)\n",
    "\n",
    "Y_train = Y_train.astype('int')\n",
    "Y_test = Y_test.astype('int')\n"
   ]
  },
  {
   "cell_type": "code",
   "execution_count": 42,
   "id": "69f3907eb1690f3",
   "metadata": {
    "collapsed": false,
    "ExecuteTime": {
     "end_time": "2024-03-08T09:12:15.864013200Z",
     "start_time": "2024-03-08T09:12:15.840045Z"
    }
   },
   "outputs": [
    {
     "name": "stdout",
     "output_type": "stream",
     "text": [
      "  (0, 9010)\t0.309423778589699\n",
      "  (0, 73565)\t0.6798319432368337\n",
      "  (0, 54395)\t0.13746253624974716\n",
      "  (0, 11176)\t0.4222137589914481\n",
      "  (0, 37209)\t0.4111523437032897\n",
      "  (0, 73908)\t0.27546106314957447\n",
      "  (1, 28373)\t0.21059017556616513\n",
      "  (1, 84083)\t0.2131633701429259\n",
      "  (1, 62887)\t0.43368575564784984\n",
      "  (1, 70220)\t0.33508320507642925\n",
      "  (1, 35312)\t0.3593266937168353\n",
      "  (1, 52621)\t0.38407871465394494\n",
      "  (1, 88973)\t0.5772494562496218\n",
      "  (2, 60575)\t0.17824614286101384\n",
      "  (2, 20733)\t0.20505852407616756\n",
      "  (2, 9472)\t0.17178526678057887\n",
      "  (2, 63166)\t0.08934323998631023\n",
      "  (2, 25502)\t0.13199299404178552\n",
      "  (2, 79378)\t0.17661274930657056\n",
      "  (2, 78507)\t0.34581494041037564\n",
      "  (2, 27889)\t0.3577518390606472\n",
      "  (2, 34103)\t0.41030556186795336\n",
      "  (2, 20519)\t0.09191696682345521\n",
      "  (2, 33030)\t0.1695559546136999\n",
      "  (2, 27893)\t0.21763842753634283\n",
      "  :\t:\n",
      "  (130382, 53971)\t0.3221455281201543\n",
      "  (130382, 90877)\t0.3390142323805227\n",
      "  (130382, 4589)\t0.31516191585252185\n",
      "  (130382, 55582)\t0.2587402935051775\n",
      "  (130382, 31037)\t0.3278515548154416\n",
      "  (130382, 8200)\t0.26124535014674866\n",
      "  (130382, 61176)\t0.25805990800231177\n",
      "  (130382, 90872)\t0.24247930737874993\n",
      "  (130382, 72174)\t0.186953788552652\n",
      "  (130382, 32081)\t0.3061584737251569\n",
      "  (130382, 71438)\t0.15465109731339757\n",
      "  (130382, 34749)\t0.16226837104206548\n",
      "  (130382, 54395)\t0.03667421209133006\n",
      "  (130383, 28463)\t0.4537622640014125\n",
      "  (130383, 24240)\t0.4385381640904281\n",
      "  (130383, 18264)\t0.3213571226579406\n",
      "  (130383, 74987)\t0.3129786958790002\n",
      "  (130383, 4653)\t0.2926673093681165\n",
      "  (130383, 87182)\t0.2615956691800233\n",
      "  (130383, 24220)\t0.22214964136139226\n",
      "  (130383, 28362)\t0.24652175847057956\n",
      "  (130383, 66547)\t0.22347003235639643\n",
      "  (130383, 90208)\t0.24397644001305757\n",
      "  (130383, 84083)\t0.15795208026344099\n",
      "  (130383, 54395)\t0.04399903501325236\n",
      "  (0, 89508)\t0.20667917868708063\n",
      "  (0, 89497)\t0.23998812355872562\n",
      "  (0, 88452)\t0.2161484240754407\n",
      "  (0, 85393)\t0.20389930481439536\n",
      "  (0, 72672)\t0.28412414368163486\n",
      "  (0, 69455)\t0.23575200589852371\n",
      "  (0, 54395)\t0.043292241743449755\n",
      "  (0, 51205)\t0.19947000309885662\n",
      "  (0, 43927)\t0.27133684325721436\n",
      "  (0, 31814)\t0.24103873741281218\n",
      "  (0, 30939)\t0.6441427924335391\n",
      "  (0, 30832)\t0.20212280404759272\n",
      "  (0, 8628)\t0.21431143663365834\n",
      "  (1, 70358)\t0.37187393699006954\n",
      "  (1, 54395)\t0.07207588989806366\n",
      "  (1, 45276)\t0.2484092248946077\n",
      "  (1, 25502)\t0.32519764742401996\n",
      "  (1, 7533)\t0.3695010733318324\n",
      "  (1, 6829)\t0.7433190062057307\n",
      "  (2, 90915)\t0.23732790703620182\n",
      "  (2, 84083)\t0.1516410050386621\n",
      "  (2, 81077)\t0.30645670481793524\n",
      "  (2, 79623)\t0.331442599394585\n",
      "  (2, 79109)\t0.3904735263280383\n",
      "  (2, 65073)\t0.22937263230043628\n",
      "  :\t:\n",
      "  (32594, 83488)\t0.2517825161096697\n",
      "  (32594, 77195)\t0.31455422032571057\n",
      "  (32594, 54395)\t0.1087439266842226\n",
      "  (32594, 49284)\t0.16941161353278839\n",
      "  (32594, 27083)\t0.3121972877785444\n",
      "  (32594, 22029)\t0.32496549381215933\n",
      "  (32594, 22020)\t0.3011484858970093\n",
      "  (32594, 6411)\t0.5607383247584208\n",
      "  (32595, 82580)\t0.3276859441707761\n",
      "  (32595, 80976)\t0.18400593776527877\n",
      "  (32595, 79859)\t0.20661140098837658\n",
      "  (32595, 71187)\t0.26287518710579033\n",
      "  (32595, 69431)\t0.17773869993558622\n",
      "  (32595, 68539)\t0.23796739535533226\n",
      "  (32595, 66380)\t0.14880452750361658\n",
      "  (32595, 65477)\t0.19405908191738383\n",
      "  (32595, 60451)\t0.20638545466461516\n",
      "  (32595, 59911)\t0.23903952239999465\n",
      "  (32595, 53664)\t0.2868520413950481\n",
      "  (32595, 38006)\t0.23012247970803332\n",
      "  (32595, 33686)\t0.21243838418391886\n",
      "  (32595, 20888)\t0.25859093313941633\n",
      "  (32595, 17930)\t0.18762071408438882\n",
      "  (32595, 10737)\t0.3877413045099554\n",
      "  (32595, 6523)\t0.25774284203355285\n",
      "143775    0\n",
      "126330    0\n",
      "140459    1\n",
      "30294    -1\n",
      "76423     1\n",
      "         ..\n",
      "156437    1\n",
      "104704    0\n",
      "48056     0\n",
      "77049     1\n",
      "71530     0\n",
      "Name: category, Length: 130384, dtype: int32\n",
      "160407    1\n",
      "46224     0\n",
      "80529     1\n",
      "28505     0\n",
      "150260    0\n",
      "         ..\n",
      "21724    -1\n",
      "45656    -1\n",
      "145513    1\n",
      "132582    0\n",
      "80619    -1\n",
      "Name: category, Length: 32596, dtype: int32\n"
     ]
    }
   ],
   "source": [
    "print(X_train_features)\n",
    "print(X_test_features)\n",
    "print(Y_train)\n",
    "print(Y_test)"
   ]
  },
  {
   "cell_type": "code",
   "execution_count": 43,
   "id": "ad4f5d2a9f6aeb70",
   "metadata": {
    "collapsed": false,
    "ExecuteTime": {
     "end_time": "2024-03-08T09:12:27.041691100Z",
     "start_time": "2024-03-08T09:12:15.864013200Z"
    }
   },
   "outputs": [
    {
     "data": {
      "text/plain": "LogisticRegression(max_iter=10000)",
      "text/html": "<style>#sk-container-id-3 {\n  /* Definition of color scheme common for light and dark mode */\n  --sklearn-color-text: black;\n  --sklearn-color-line: gray;\n  /* Definition of color scheme for unfitted estimators */\n  --sklearn-color-unfitted-level-0: #fff5e6;\n  --sklearn-color-unfitted-level-1: #f6e4d2;\n  --sklearn-color-unfitted-level-2: #ffe0b3;\n  --sklearn-color-unfitted-level-3: chocolate;\n  /* Definition of color scheme for fitted estimators */\n  --sklearn-color-fitted-level-0: #f0f8ff;\n  --sklearn-color-fitted-level-1: #d4ebff;\n  --sklearn-color-fitted-level-2: #b3dbfd;\n  --sklearn-color-fitted-level-3: cornflowerblue;\n\n  /* Specific color for light theme */\n  --sklearn-color-text-on-default-background: var(--sg-text-color, var(--theme-code-foreground, var(--jp-content-font-color1, black)));\n  --sklearn-color-background: var(--sg-background-color, var(--theme-background, var(--jp-layout-color0, white)));\n  --sklearn-color-border-box: var(--sg-text-color, var(--theme-code-foreground, var(--jp-content-font-color1, black)));\n  --sklearn-color-icon: #696969;\n\n  @media (prefers-color-scheme: dark) {\n    /* Redefinition of color scheme for dark theme */\n    --sklearn-color-text-on-default-background: var(--sg-text-color, var(--theme-code-foreground, var(--jp-content-font-color1, white)));\n    --sklearn-color-background: var(--sg-background-color, var(--theme-background, var(--jp-layout-color0, #111)));\n    --sklearn-color-border-box: var(--sg-text-color, var(--theme-code-foreground, var(--jp-content-font-color1, white)));\n    --sklearn-color-icon: #878787;\n  }\n}\n\n#sk-container-id-3 {\n  color: var(--sklearn-color-text);\n}\n\n#sk-container-id-3 pre {\n  padding: 0;\n}\n\n#sk-container-id-3 input.sk-hidden--visually {\n  border: 0;\n  clip: rect(1px 1px 1px 1px);\n  clip: rect(1px, 1px, 1px, 1px);\n  height: 1px;\n  margin: -1px;\n  overflow: hidden;\n  padding: 0;\n  position: absolute;\n  width: 1px;\n}\n\n#sk-container-id-3 div.sk-dashed-wrapped {\n  border: 1px dashed var(--sklearn-color-line);\n  margin: 0 0.4em 0.5em 0.4em;\n  box-sizing: border-box;\n  padding-bottom: 0.4em;\n  background-color: var(--sklearn-color-background);\n}\n\n#sk-container-id-3 div.sk-container {\n  /* jupyter's `normalize.less` sets `[hidden] { display: none; }`\n     but bootstrap.min.css set `[hidden] { display: none !important; }`\n     so we also need the `!important` here to be able to override the\n     default hidden behavior on the sphinx rendered scikit-learn.org.\n     See: https://github.com/scikit-learn/scikit-learn/issues/21755 */\n  display: inline-block !important;\n  position: relative;\n}\n\n#sk-container-id-3 div.sk-text-repr-fallback {\n  display: none;\n}\n\ndiv.sk-parallel-item,\ndiv.sk-serial,\ndiv.sk-item {\n  /* draw centered vertical line to link estimators */\n  background-image: linear-gradient(var(--sklearn-color-text-on-default-background), var(--sklearn-color-text-on-default-background));\n  background-size: 2px 100%;\n  background-repeat: no-repeat;\n  background-position: center center;\n}\n\n/* Parallel-specific style estimator block */\n\n#sk-container-id-3 div.sk-parallel-item::after {\n  content: \"\";\n  width: 100%;\n  border-bottom: 2px solid var(--sklearn-color-text-on-default-background);\n  flex-grow: 1;\n}\n\n#sk-container-id-3 div.sk-parallel {\n  display: flex;\n  align-items: stretch;\n  justify-content: center;\n  background-color: var(--sklearn-color-background);\n  position: relative;\n}\n\n#sk-container-id-3 div.sk-parallel-item {\n  display: flex;\n  flex-direction: column;\n}\n\n#sk-container-id-3 div.sk-parallel-item:first-child::after {\n  align-self: flex-end;\n  width: 50%;\n}\n\n#sk-container-id-3 div.sk-parallel-item:last-child::after {\n  align-self: flex-start;\n  width: 50%;\n}\n\n#sk-container-id-3 div.sk-parallel-item:only-child::after {\n  width: 0;\n}\n\n/* Serial-specific style estimator block */\n\n#sk-container-id-3 div.sk-serial {\n  display: flex;\n  flex-direction: column;\n  align-items: center;\n  background-color: var(--sklearn-color-background);\n  padding-right: 1em;\n  padding-left: 1em;\n}\n\n\n/* Toggleable style: style used for estimator/Pipeline/ColumnTransformer box that is\nclickable and can be expanded/collapsed.\n- Pipeline and ColumnTransformer use this feature and define the default style\n- Estimators will overwrite some part of the style using the `sk-estimator` class\n*/\n\n/* Pipeline and ColumnTransformer style (default) */\n\n#sk-container-id-3 div.sk-toggleable {\n  /* Default theme specific background. It is overwritten whether we have a\n  specific estimator or a Pipeline/ColumnTransformer */\n  background-color: var(--sklearn-color-background);\n}\n\n/* Toggleable label */\n#sk-container-id-3 label.sk-toggleable__label {\n  cursor: pointer;\n  display: block;\n  width: 100%;\n  margin-bottom: 0;\n  padding: 0.5em;\n  box-sizing: border-box;\n  text-align: center;\n}\n\n#sk-container-id-3 label.sk-toggleable__label-arrow:before {\n  /* Arrow on the left of the label */\n  content: \"▸\";\n  float: left;\n  margin-right: 0.25em;\n  color: var(--sklearn-color-icon);\n}\n\n#sk-container-id-3 label.sk-toggleable__label-arrow:hover:before {\n  color: var(--sklearn-color-text);\n}\n\n/* Toggleable content - dropdown */\n\n#sk-container-id-3 div.sk-toggleable__content {\n  max-height: 0;\n  max-width: 0;\n  overflow: hidden;\n  text-align: left;\n  /* unfitted */\n  background-color: var(--sklearn-color-unfitted-level-0);\n}\n\n#sk-container-id-3 div.sk-toggleable__content.fitted {\n  /* fitted */\n  background-color: var(--sklearn-color-fitted-level-0);\n}\n\n#sk-container-id-3 div.sk-toggleable__content pre {\n  margin: 0.2em;\n  border-radius: 0.25em;\n  color: var(--sklearn-color-text);\n  /* unfitted */\n  background-color: var(--sklearn-color-unfitted-level-0);\n}\n\n#sk-container-id-3 div.sk-toggleable__content.fitted pre {\n  /* unfitted */\n  background-color: var(--sklearn-color-fitted-level-0);\n}\n\n#sk-container-id-3 input.sk-toggleable__control:checked~div.sk-toggleable__content {\n  /* Expand drop-down */\n  max-height: 200px;\n  max-width: 100%;\n  overflow: auto;\n}\n\n#sk-container-id-3 input.sk-toggleable__control:checked~label.sk-toggleable__label-arrow:before {\n  content: \"▾\";\n}\n\n/* Pipeline/ColumnTransformer-specific style */\n\n#sk-container-id-3 div.sk-label input.sk-toggleable__control:checked~label.sk-toggleable__label {\n  color: var(--sklearn-color-text);\n  background-color: var(--sklearn-color-unfitted-level-2);\n}\n\n#sk-container-id-3 div.sk-label.fitted input.sk-toggleable__control:checked~label.sk-toggleable__label {\n  background-color: var(--sklearn-color-fitted-level-2);\n}\n\n/* Estimator-specific style */\n\n/* Colorize estimator box */\n#sk-container-id-3 div.sk-estimator input.sk-toggleable__control:checked~label.sk-toggleable__label {\n  /* unfitted */\n  background-color: var(--sklearn-color-unfitted-level-2);\n}\n\n#sk-container-id-3 div.sk-estimator.fitted input.sk-toggleable__control:checked~label.sk-toggleable__label {\n  /* fitted */\n  background-color: var(--sklearn-color-fitted-level-2);\n}\n\n#sk-container-id-3 div.sk-label label.sk-toggleable__label,\n#sk-container-id-3 div.sk-label label {\n  /* The background is the default theme color */\n  color: var(--sklearn-color-text-on-default-background);\n}\n\n/* On hover, darken the color of the background */\n#sk-container-id-3 div.sk-label:hover label.sk-toggleable__label {\n  color: var(--sklearn-color-text);\n  background-color: var(--sklearn-color-unfitted-level-2);\n}\n\n/* Label box, darken color on hover, fitted */\n#sk-container-id-3 div.sk-label.fitted:hover label.sk-toggleable__label.fitted {\n  color: var(--sklearn-color-text);\n  background-color: var(--sklearn-color-fitted-level-2);\n}\n\n/* Estimator label */\n\n#sk-container-id-3 div.sk-label label {\n  font-family: monospace;\n  font-weight: bold;\n  display: inline-block;\n  line-height: 1.2em;\n}\n\n#sk-container-id-3 div.sk-label-container {\n  text-align: center;\n}\n\n/* Estimator-specific */\n#sk-container-id-3 div.sk-estimator {\n  font-family: monospace;\n  border: 1px dotted var(--sklearn-color-border-box);\n  border-radius: 0.25em;\n  box-sizing: border-box;\n  margin-bottom: 0.5em;\n  /* unfitted */\n  background-color: var(--sklearn-color-unfitted-level-0);\n}\n\n#sk-container-id-3 div.sk-estimator.fitted {\n  /* fitted */\n  background-color: var(--sklearn-color-fitted-level-0);\n}\n\n/* on hover */\n#sk-container-id-3 div.sk-estimator:hover {\n  /* unfitted */\n  background-color: var(--sklearn-color-unfitted-level-2);\n}\n\n#sk-container-id-3 div.sk-estimator.fitted:hover {\n  /* fitted */\n  background-color: var(--sklearn-color-fitted-level-2);\n}\n\n/* Specification for estimator info (e.g. \"i\" and \"?\") */\n\n/* Common style for \"i\" and \"?\" */\n\n.sk-estimator-doc-link,\na:link.sk-estimator-doc-link,\na:visited.sk-estimator-doc-link {\n  float: right;\n  font-size: smaller;\n  line-height: 1em;\n  font-family: monospace;\n  background-color: var(--sklearn-color-background);\n  border-radius: 1em;\n  height: 1em;\n  width: 1em;\n  text-decoration: none !important;\n  margin-left: 1ex;\n  /* unfitted */\n  border: var(--sklearn-color-unfitted-level-1) 1pt solid;\n  color: var(--sklearn-color-unfitted-level-1);\n}\n\n.sk-estimator-doc-link.fitted,\na:link.sk-estimator-doc-link.fitted,\na:visited.sk-estimator-doc-link.fitted {\n  /* fitted */\n  border: var(--sklearn-color-fitted-level-1) 1pt solid;\n  color: var(--sklearn-color-fitted-level-1);\n}\n\n/* On hover */\ndiv.sk-estimator:hover .sk-estimator-doc-link:hover,\n.sk-estimator-doc-link:hover,\ndiv.sk-label-container:hover .sk-estimator-doc-link:hover,\n.sk-estimator-doc-link:hover {\n  /* unfitted */\n  background-color: var(--sklearn-color-unfitted-level-3);\n  color: var(--sklearn-color-background);\n  text-decoration: none;\n}\n\ndiv.sk-estimator.fitted:hover .sk-estimator-doc-link.fitted:hover,\n.sk-estimator-doc-link.fitted:hover,\ndiv.sk-label-container:hover .sk-estimator-doc-link.fitted:hover,\n.sk-estimator-doc-link.fitted:hover {\n  /* fitted */\n  background-color: var(--sklearn-color-fitted-level-3);\n  color: var(--sklearn-color-background);\n  text-decoration: none;\n}\n\n/* Span, style for the box shown on hovering the info icon */\n.sk-estimator-doc-link span {\n  display: none;\n  z-index: 9999;\n  position: relative;\n  font-weight: normal;\n  right: .2ex;\n  padding: .5ex;\n  margin: .5ex;\n  width: min-content;\n  min-width: 20ex;\n  max-width: 50ex;\n  color: var(--sklearn-color-text);\n  box-shadow: 2pt 2pt 4pt #999;\n  /* unfitted */\n  background: var(--sklearn-color-unfitted-level-0);\n  border: .5pt solid var(--sklearn-color-unfitted-level-3);\n}\n\n.sk-estimator-doc-link.fitted span {\n  /* fitted */\n  background: var(--sklearn-color-fitted-level-0);\n  border: var(--sklearn-color-fitted-level-3);\n}\n\n.sk-estimator-doc-link:hover span {\n  display: block;\n}\n\n/* \"?\"-specific style due to the `<a>` HTML tag */\n\n#sk-container-id-3 a.estimator_doc_link {\n  float: right;\n  font-size: 1rem;\n  line-height: 1em;\n  font-family: monospace;\n  background-color: var(--sklearn-color-background);\n  border-radius: 1rem;\n  height: 1rem;\n  width: 1rem;\n  text-decoration: none;\n  /* unfitted */\n  color: var(--sklearn-color-unfitted-level-1);\n  border: var(--sklearn-color-unfitted-level-1) 1pt solid;\n}\n\n#sk-container-id-3 a.estimator_doc_link.fitted {\n  /* fitted */\n  border: var(--sklearn-color-fitted-level-1) 1pt solid;\n  color: var(--sklearn-color-fitted-level-1);\n}\n\n/* On hover */\n#sk-container-id-3 a.estimator_doc_link:hover {\n  /* unfitted */\n  background-color: var(--sklearn-color-unfitted-level-3);\n  color: var(--sklearn-color-background);\n  text-decoration: none;\n}\n\n#sk-container-id-3 a.estimator_doc_link.fitted:hover {\n  /* fitted */\n  background-color: var(--sklearn-color-fitted-level-3);\n}\n</style><div id=\"sk-container-id-3\" class=\"sk-top-container\"><div class=\"sk-text-repr-fallback\"><pre>LogisticRegression(max_iter=10000)</pre><b>In a Jupyter environment, please rerun this cell to show the HTML representation or trust the notebook. <br />On GitHub, the HTML representation is unable to render, please try loading this page with nbviewer.org.</b></div><div class=\"sk-container\" hidden><div class=\"sk-item\"><div class=\"sk-estimator fitted sk-toggleable\"><input class=\"sk-toggleable__control sk-hidden--visually\" id=\"sk-estimator-id-3\" type=\"checkbox\" checked><label for=\"sk-estimator-id-3\" class=\"sk-toggleable__label fitted sk-toggleable__label-arrow fitted\">&nbsp;&nbsp;LogisticRegression<a class=\"sk-estimator-doc-link fitted\" rel=\"noreferrer\" target=\"_blank\" href=\"https://scikit-learn.org/1.4/modules/generated/sklearn.linear_model.LogisticRegression.html\">?<span>Documentation for LogisticRegression</span></a><span class=\"sk-estimator-doc-link fitted\">i<span>Fitted</span></span></label><div class=\"sk-toggleable__content fitted\"><pre>LogisticRegression(max_iter=10000)</pre></div> </div></div></div></div>"
     },
     "execution_count": 43,
     "metadata": {},
     "output_type": "execute_result"
    }
   ],
   "source": [
    "\n",
    "from sklearn.preprocessing import StandardScaler\n",
    "from sklearn.linear_model import LogisticRegression\n",
    "\n",
    "\n",
    "scaler = StandardScaler(with_mean=False)\n",
    "X_train_scaled = scaler.fit_transform(X_train_features)\n",
    "X_test_scaled = scaler.transform(X_test_features)\n",
    "\n",
    "# increase the number of iterations and fit the model varna max iterration par kar ja raha hai\n",
    "logistic = LogisticRegression(max_iter=10000)\n",
    "logistic.fit(X_train_scaled, Y_train)"
   ]
  },
  {
   "cell_type": "code",
   "outputs": [],
   "source": [],
   "metadata": {
    "collapsed": false,
    "ExecuteTime": {
     "end_time": "2024-03-08T09:12:27.041691100Z",
     "start_time": "2024-03-08T09:12:27.029854700Z"
    }
   },
   "id": "88d02ac07f31ae71",
   "execution_count": 43
  },
  {
   "cell_type": "code",
   "execution_count": 44,
   "id": "4b9370c0d841f99c",
   "metadata": {
    "collapsed": false,
    "ExecuteTime": {
     "end_time": "2024-03-08T09:12:27.106819800Z",
     "start_time": "2024-03-08T09:12:27.041691100Z"
    }
   },
   "outputs": [
    {
     "name": "stdout",
     "output_type": "stream",
     "text": [
      " acuuray on training data:  0.9844842925512333\n",
      " acuuray on testing data:  0.7026935820346055\n"
     ]
    }
   ],
   "source": [
    "prediction_on_training = logistic.predict(X_train_scaled)\n",
    "prediction_on_testing = logistic.predict(X_test_scaled)\n",
    "\n",
    "accuracy_on_training = accuracy_score(Y_train, prediction_on_training)\n",
    "accuracy_on_testing = accuracy_score(Y_test, prediction_on_testing)\n",
    "\n",
    "print(\" acuuray on training data: \", accuracy_on_training)\n",
    "print(\" acuuray on testing data: \", accuracy_on_testing)\n",
    "\n"
   ]
  },
  {
   "cell_type": "code",
   "outputs": [
    {
     "name": "stdout",
     "output_type": "stream",
     "text": [
      "F1 score on testing data: 0.7029216572713873\n",
      "F1 score on training data: 0.9844876733651312\n"
     ]
    }
   ],
   "source": [
    "from sklearn.metrics import f1_score\n",
    "\n",
    "# Calculate F1 score on the testing data\n",
    "f1_score_on_testing = f1_score(Y_test, prediction_on_testing, average='weighted')\n",
    "print(\"F1 score on testing data:\", f1_score_on_testing)\n",
    "\n",
    "f1_score_on_training = f1_score(Y_train, prediction_on_training, average='weighted')\n",
    "print(\"F1 score on training data:\", f1_score_on_training)\n",
    " \n"
   ],
   "metadata": {
    "collapsed": false,
    "ExecuteTime": {
     "end_time": "2024-03-08T09:12:27.163355900Z",
     "start_time": "2024-03-08T09:12:27.090667400Z"
    }
   },
   "id": "49bb57e8c46f2be4",
   "execution_count": 45
  },
  {
   "cell_type": "code",
   "execution_count": 46,
   "id": "32566f342d8860ab",
   "metadata": {
    "collapsed": false,
    "ExecuteTime": {
     "end_time": "2024-03-08T09:12:31.793649900Z",
     "start_time": "2024-03-08T09:12:27.153920Z"
    }
   },
   "outputs": [
    {
     "name": "stdout",
     "output_type": "stream",
     "text": [
      "The tweet is negative\n"
     ]
    }
   ],
   "source": [
    "\n",
    "input_text = [input(\"Enter a tweet : \")]\n",
    "input_text_features = vectorizer.transform(input_text)\n",
    "input_text_scaled = scaler.transform(input_text_features)\n",
    "prediction = logistic.predict(input_text_scaled)\n",
    "\n",
    "if(prediction[0] == -1):\n",
    "    print(\"The tweet is neutral\")\n",
    "elif(prediction[0] == 0):\n",
    "    print(\"The tweet is negative\")\n",
    "else:\n",
    "    print(\"The tweet is positive\")\n",
    "    "
   ]
  }
 ],
 "metadata": {
  "kernelspec": {
   "display_name": "Python 3",
   "language": "python",
   "name": "python3"
  },
  "language_info": {
   "codemirror_mode": {
    "name": "ipython",
    "version": 2
   },
   "file_extension": ".py",
   "mimetype": "text/x-python",
   "name": "python",
   "nbconvert_exporter": "python",
   "pygments_lexer": "ipython2",
   "version": "2.7.6"
  }
 },
 "nbformat": 4,
 "nbformat_minor": 5
}
